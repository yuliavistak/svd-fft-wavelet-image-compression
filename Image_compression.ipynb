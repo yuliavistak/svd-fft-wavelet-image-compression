{
  "cells": [
    {
      "cell_type": "code",
      "execution_count": null,
      "metadata": {
        "id": "cgZiGbrE0Grl"
      },
      "outputs": [],
      "source": [
        "import cv2\n",
        "import numpy as np\n",
        "import matplotlib.pyplot as plt\n",
        "import pywt"
      ]
    },
    {
      "cell_type": "code",
      "execution_count": null,
      "metadata": {
        "id": "MxprrdYsz3Cz"
      },
      "outputs": [],
      "source": [
        "path = '...' # enter path\n",
        "img = plt.imread(path)\n",
        "plt.imshow(img)"
      ]
    },
    {
      "cell_type": "markdown",
      "metadata": {
        "id": "LMPx1E_b3DIL"
      },
      "source": [
        "## Checking compressed images"
      ]
    },
    {
      "cell_type": "code",
      "execution_count": null,
      "metadata": {
        "id": "iEM_nVCZO9ma"
      },
      "outputs": [],
      "source": [
        "def plot_compressed_images(image, function, value1, value2, name):\n",
        "    plt.figure(figsize=(15, 10))\n",
        "\n",
        "    compressed_image_1, size1 = function(image, value1)\n",
        "    plt.subplot(1, 3, 1)\n",
        "    plt.imshow(compressed_image_1)\n",
        "    plt.title(f'{name} = {value1}')\n",
        "    plt.axis('off')\n",
        "\n",
        "    compressed_image_2, size2 = function(image, value2)\n",
        "    plt.subplot(1, 3, 2)\n",
        "    plt.imshow(compressed_image_2)\n",
        "    plt.title(f'{name} = {value2}')\n",
        "    plt.axis('off')\n",
        "\n",
        "    plt.subplot(1, 3, 3)\n",
        "    plt.imshow(image)\n",
        "    plt.title('Original image')\n",
        "    plt.axis('off')\n",
        "\n",
        "    plt.tight_layout()\n",
        "    plt.show()\n",
        "\n",
        "    return compressed_image_1, size1, compressed_image_2, size2"
      ]
    },
    {
      "cell_type": "markdown",
      "source": [
        "## **SVD**"
      ],
      "metadata": {
        "id": "VZ9PkPvMCCMS"
      }
    },
    {
      "cell_type": "code",
      "execution_count": null,
      "metadata": {
        "id": "x0ULMGmcLxuE"
      },
      "outputs": [],
      "source": [
        "def eigenvalue(A, v):\n",
        "    '''\n",
        "    Eigenvalue\n",
        "    '''\n",
        "    Av = np.dot(A, v)\n",
        "    return np.dot(Av, v)"
      ]
    },
    {
      "cell_type": "code",
      "execution_count": null,
      "metadata": {
        "id": "zsu3UqZMLy4j"
      },
      "outputs": [],
      "source": [
        "def power_iteration(matrix):\n",
        "    '''\n",
        "    Power Iteration method\n",
        "    '''\n",
        "    At_A = np.dot(matrix.T, matrix)\n",
        "    m, n = matrix.shape\n",
        "\n",
        "    eigen_vector = np.ones(n) / np.sqrt(n)\n",
        "    evigen_value = eigenvalue(At_A, eigen_vector)\n",
        "\n",
        "\n",
        "\n",
        "    while True:\n",
        "        xi = np.dot(At_A, eigen_vector)\n",
        "        xi = xi / np.sqrt(np.dot(xi, xi))\n",
        "\n",
        "        ev_new = eigenvalue(At_A, xi)\n",
        "        if np.abs(evigen_value - ev_new) < 0.001:\n",
        "            break\n",
        "\n",
        "        eigen_vector = xi\n",
        "        evigen_value = ev_new\n",
        "\n",
        "    return eigen_vector, np.sqrt(evigen_value)\n"
      ]
    },
    {
      "cell_type": "code",
      "execution_count": null,
      "metadata": {
        "id": "YKBx6l2cL62y"
      },
      "outputs": [],
      "source": [
        "def svd_power_iterations(matrix: np.array, k: int):\n",
        "    '''\n",
        "    SVD via power iterations method\n",
        "    '''\n",
        "    n, m = matrix.shape\n",
        "    U = np.zeros((n, k))\n",
        "    S = np.zeros((k, k))\n",
        "    Vt = np.zeros((k, m))\n",
        "    A = np.copy(matrix.astype('float64'))\n",
        "\n",
        "    for i in range(k):\n",
        "        v_i, sigma_i = power_iteration(A)\n",
        "        if not sigma_i:\n",
        "            break\n",
        "        Av_i = np.dot(A, v_i)\n",
        "\n",
        "        u_i = Av_i / sigma_i\n",
        "\n",
        "        U[:, i] = u_i\n",
        "        Vt[i, :] = v_i\n",
        "\n",
        "        S[i, i] = sigma_i\n",
        "\n",
        "        A -= sigma_i * np.outer(u_i, v_i)\n",
        "\n",
        "    return U, S, Vt"
      ]
    },
    {
      "cell_type": "code",
      "execution_count": null,
      "metadata": {
        "id": "YMPxT2eVL8Qt"
      },
      "outputs": [],
      "source": [
        "def SVD_compression(image, k):\n",
        "    \"\"\"\n",
        "    Compression\n",
        "    \"\"\"\n",
        "    B = image[:, :, 0]\n",
        "    G = image[:, :, 1]\n",
        "    R = image[:, :, 2]\n",
        "\n",
        "    U_B, S_B, Vt_B = svd_power_iterations(B, k)\n",
        "    U_G, S_G, Vt_G = svd_power_iterations(G, k)\n",
        "    U_R, S_R, Vt_R = svd_power_iterations(R, k)\n",
        "\n",
        "    svdkB = np.dot(U_B, np.dot(S_B, Vt_B))\n",
        "    svdkG = np.dot(U_G, np.dot(S_G, Vt_G))\n",
        "    svdkR = np.dot(U_R, np.dot(S_R, Vt_R))\n",
        "\n",
        "    compressed_image = np.stack((svdkB, svdkG, svdkR), axis = -1)\n",
        "\n",
        "    compressed_image = compressed_image/255\n",
        "    size = (compressed_image.shape[0] + compressed_image.shape[1] + 1) * 3 * k\n",
        "    return compressed_image, size"
      ]
    },
    {
      "cell_type": "code",
      "execution_count": null,
      "metadata": {
        "id": "8eoOCky8MHPy"
      },
      "outputs": [],
      "source": [
        "_, svd_size1, _, svd_size2 = plot_compressed_images(img, SVD_compression, 20, 60, 'Rank')"
      ]
    },
    {
      "cell_type": "markdown",
      "metadata": {
        "id": "JwydwCt53Tkm"
      },
      "source": [
        "#### SVD compression ratio"
      ]
    },
    {
      "cell_type": "code",
      "execution_count": null,
      "metadata": {
        "id": "zEiq8MHe0rNQ",
        "colab": {
          "base_uri": "https://localhost:8080/"
        },
        "outputId": "ec39497a-1bc3-4f10-d9bc-0762783bdd21"
      },
      "outputs": [
        {
          "output_type": "stream",
          "name": "stdout",
          "text": [
            "Range of k for 60-80% compression: 329 - 439\n",
            "It makes no sense for compression with SVD for k more than: 548\n"
          ]
        }
      ],
      "source": [
        "lower_bound_k = upper_bound_k = compression_limit = 0\n",
        "m = img.shape[0] # original image height\n",
        "n = img.shape[1] # original image width\n",
        "original_size = 3 * m * n\n",
        "\n",
        "\n",
        "unit_size = 3* (n + m + 1) # size of 1-rank matrix in expansion\n",
        "\n",
        "lower_bound_k = round(0.6 * original_size/unit_size)\n",
        "upper_bound_k = round(0.8 * original_size/unit_size)\n",
        "compression_limit = round(original_size/unit_size)\n",
        "\n",
        "print(\"Range of k for 60-80% compression:\", lower_bound_k, \"-\", upper_bound_k)\n",
        "print(\"It makes no sense for compression with SVD for k more than:\", compression_limit)"
      ]
    },
    {
      "cell_type": "code",
      "source": [
        "def find_rank(image, cr):\n",
        "  n, m, ch = image.shape\n",
        "  original_size = n * m * ch\n",
        "  unit_size = 3* (n + m + 1)\n",
        "  rank = round(cr/100 * original_size / unit_size)\n",
        "  return rank"
      ],
      "metadata": {
        "id": "9ryXvUVPRdl-"
      },
      "execution_count": null,
      "outputs": []
    },
    {
      "cell_type": "markdown",
      "metadata": {
        "id": "7TuicpEdylb8"
      },
      "source": [
        "## **FFT**"
      ]
    },
    {
      "cell_type": "code",
      "execution_count": null,
      "metadata": {
        "id": "2vTWj3j6ymDQ"
      },
      "outputs": [],
      "source": [
        "def next_power_of_2(x):\n",
        "    return 1 if x == 0 else 2**(x - 1).bit_length()\n",
        "\n",
        "def FFT(x):\n",
        "    n = len(x)\n",
        "    if n <= 1:\n",
        "        return x\n",
        "    else:\n",
        "        if n % 2 > 0:\n",
        "            x = np.append(x, np.zeros(next_power_of_2(n) - n))\n",
        "            n = len(x)\n",
        "        even = FFT(x[0::2])\n",
        "        odd = FFT(x[1::2])\n",
        "        t = [np.exp(-2j * np.pi * k / n) * (odd[k] if k < len(odd) else 0) for k in range(n // 2)]\n",
        "        return [even[k] + t[k] for k in range(n // 2)] + [even[k] - t[k] for k in range(n // 2)]\n",
        "\n",
        "def IFFT(x):\n",
        "    x_conjugate = np.conjugate(x)\n",
        "    y = FFT(x_conjugate)\n",
        "    return np.conjugate(y) / len(x)\n",
        "\n",
        "def compress_channel(channel, threshold_factor):\n",
        "    padded_channel = np.array([np.pad(row, (0, next_power_of_2(len(row)) - len(row)), mode='constant') for row in channel])\n",
        "    row_fft = np.array([FFT(row) for row in padded_channel])\n",
        "    padded_row_fft = np.array([np.pad(row, (0, next_power_of_2(len(row)) - len(row)), mode='constant') for row in row_fft.T]).T\n",
        "    column_fft = np.array([FFT(col) for col in padded_row_fft.T]).T\n",
        "    abs_column_fft = np.abs(column_fft)\n",
        "    threshold = np.max(abs_column_fft) * threshold_factor\n",
        "    mask = abs_column_fft > threshold\n",
        "    column_fft *= mask\n",
        "    column_ifft = np.array([IFFT(col) for col in column_fft.T]).T\n",
        "    row_ifft = np.array([IFFT(row) for row in column_ifft])\n",
        "    return np.real(row_ifft)[:channel.shape[0], :channel.shape[1]], np.sum(mask)\n",
        "\n",
        "def FFT_compression(img, threshold_factor):\n",
        "    channels = cv2.split(img)\n",
        "    compressed_channels = []\n",
        "    size = 0\n",
        "    for ch in channels:\n",
        "      res, size1 = compress_channel(ch, threshold_factor)\n",
        "      compressed_channels.append(res)\n",
        "      size += size1\n",
        "    compressed_image = cv2.merge(compressed_channels)\n",
        "    return compressed_image/255, size\n"
      ]
    },
    {
      "cell_type": "code",
      "source": [
        "_, fft_size1, _, fft_size2 = plot_compressed_images(img, FFT_compression, 0.05, 0.001, 'Threshold')"
      ],
      "metadata": {
        "id": "6r9TD7hgD1tZ"
      },
      "execution_count": null,
      "outputs": []
    },
    {
      "cell_type": "markdown",
      "metadata": {
        "id": "oyC3x9L65YWt"
      },
      "source": [
        "#### FFT compression ratio"
      ]
    },
    {
      "cell_type": "code",
      "execution_count": null,
      "metadata": {
        "id": "8bX354_m5YJS"
      },
      "outputs": [],
      "source": [
        "size = img.shape[0] * img.shape[1] * 3\n",
        "print(f\"Initial image size:{size}\")\n",
        "print(f\"Image size after FFT compression:{fft_size2}\")\n",
        "\n",
        "cr = (fft_size2/ size) * 100\n",
        "print(f\"Threshold: {0.001}\")\n",
        "print(f\"FFT compression ratio: {cr}%\")"
      ]
    },
    {
      "cell_type": "markdown",
      "metadata": {
        "id": "NYFpUh09O1uo"
      },
      "source": [
        "## **Wavelet**"
      ]
    },
    {
      "cell_type": "code",
      "execution_count": null,
      "metadata": {
        "id": "B_2ZSUhaOxfa"
      },
      "outputs": [],
      "source": [
        "def process_channel(data, keep, wavelet='haar', level=3):\n",
        "    coeffs = pywt.wavedec2(data, wavelet=wavelet, level=level)\n",
        "    coeff_arr, coeff_slices = pywt.coeffs_to_array(coeffs)\n",
        "    Csort = np.sort(np.abs(coeff_arr.reshape(-1)))\n",
        "    thresh = Csort[int(np.floor((1 - keep) * len(Csort)))]\n",
        "    ind = np.abs(coeff_arr) > thresh\n",
        "    non_zero_count = np.sum(ind)\n",
        "\n",
        "    Cfilt = coeff_arr * ind\n",
        "    coeffs_filt = pywt.array_to_coeffs(Cfilt, coeff_slices, output_format='wavedec2')\n",
        "    reconstructed = pywt.waverec2(coeffs_filt, wavelet=wavelet)\n",
        "\n",
        "    return reconstructed, non_zero_count\n",
        "\n",
        "def wavelet_compression(image, keep):\n",
        "    channels = [image[:, :, i] for i in range(3)]\n",
        "    reconstructed_channels = []\n",
        "    comp_size = 0\n",
        "    for chan in channels:\n",
        "        comp_ch, size = process_channel(chan, keep)\n",
        "        reconstructed_channels.append(comp_ch)\n",
        "        comp_size += size\n",
        "\n",
        "    reconstructed_image = np.stack(reconstructed_channels, axis=-1).astype(np.uint8)\n",
        "\n",
        "    return reconstructed_image, comp_size"
      ]
    },
    {
      "cell_type": "code",
      "source": [
        "_, wave_size1, _, wave_size2 = plot_compressed_images(img, wavelet_compression, 0.00955, 0.02, 'Threshold')"
      ],
      "metadata": {
        "id": "Ulypg-nhEPEr"
      },
      "execution_count": null,
      "outputs": []
    },
    {
      "cell_type": "markdown",
      "source": [
        "### Wavelet compression ratio"
      ],
      "metadata": {
        "id": "zPUkm1fZFPkz"
      }
    },
    {
      "cell_type": "code",
      "source": [
        "size = img.shape[0] * img.shape[1] * 3\n",
        "print(f\"Initial image size:{size}\")\n",
        "print(f\"Image size after Wavelet transform:{wave_size2}\")\n",
        "\n",
        "cr = (wave_size2/ size) * 100\n",
        "print(f\"Threshold: {0.02}\")\n",
        "print(f\"Wavelet compression ratio: {cr}%\")"
      ],
      "metadata": {
        "id": "fpCDNcdLFS4f"
      },
      "execution_count": null,
      "outputs": []
    },
    {
      "cell_type": "markdown",
      "metadata": {
        "id": "TBiKoisBO7jo"
      },
      "source": [
        "## Metrics"
      ]
    },
    {
      "cell_type": "markdown",
      "metadata": {
        "id": "g9QkeiTZOiRZ"
      },
      "source": [
        "#### SSIM"
      ]
    },
    {
      "cell_type": "code",
      "execution_count": null,
      "metadata": {
        "id": "9sijR3Fc1TTN"
      },
      "outputs": [],
      "source": [
        "def ssim(img1, img2):\n",
        "    C1 = (0.01 * 255)**2\n",
        "    C2 = (0.03 * 255)**2\n",
        "\n",
        "    img1 = img1.astype(np.float64)\n",
        "    img2 = img2.astype(np.float64)\n",
        "    kernel = cv2.getGaussianKernel(11, 1.5)\n",
        "    window = np.outer(kernel, kernel.transpose())\n",
        "\n",
        "    mu1 = cv2.filter2D(img1, -1, window)[5:-5, 5:-5]\n",
        "    mu2 = cv2.filter2D(img2, -1, window)[5:-5, 5:-5]\n",
        "    mu1_sq = mu1**2\n",
        "    mu2_sq = mu2**2\n",
        "    mu1_mu2 = mu1 * mu2\n",
        "    sigma1_sq = cv2.filter2D(img1**2, -1, window)[5:-5, 5:-5] - mu1_sq\n",
        "    sigma2_sq = cv2.filter2D(img2**2, -1, window)[5:-5, 5:-5] - mu2_sq\n",
        "    sigma12 = cv2.filter2D(img1 * img2, -1, window)[5:-5, 5:-5] - mu1_mu2\n",
        "\n",
        "    ssim_map = ((2 * mu1_mu2 + C1) * (2 * sigma12 + C2)) / ((mu1_sq + mu2_sq + C1) *\n",
        "                                                            (sigma1_sq + sigma2_sq + C2))\n",
        "    return ssim_map.mean()\n",
        "\n",
        "\n",
        "def calculate_ssim(img1, img2):\n",
        "    '''calculate SSIM\n",
        "    the same outputs as MATLAB's\n",
        "    img1, img2: [0, 255]\n",
        "    '''\n",
        "    if not img1.shape == img2.shape:\n",
        "        raise ValueError('Input images must have the same dimensions.')\n",
        "    if img1.ndim == 2:\n",
        "        return ssim(img1, img2)\n",
        "    elif img1.ndim == 3:\n",
        "        if img1.shape[2] == 3:\n",
        "            ssims = []\n",
        "            for i in range(3):\n",
        "                ssims.append(ssim(img1, img2))\n",
        "            return np.array(ssims).mean()\n",
        "        elif img1.shape[2] == 1:\n",
        "            return ssim(np.squeeze(img1), np.squeeze(img2))\n",
        "    else:\n",
        "        raise ValueError('Wrong input image dimensions.')"
      ]
    },
    {
      "cell_type": "markdown",
      "metadata": {
        "id": "k7Lz63OOZlMw"
      },
      "source": [
        "#### MSE"
      ]
    },
    {
      "cell_type": "code",
      "execution_count": null,
      "metadata": {
        "id": "9bFOqdCvZnhX"
      },
      "outputs": [],
      "source": [
        "def mse(original, compressed):\n",
        "  return np.mean((original - compressed) ** 2)"
      ]
    },
    {
      "cell_type": "markdown",
      "metadata": {
        "id": "il_jKBPVPAJp"
      },
      "source": [
        "#### PSNR"
      ]
    },
    {
      "cell_type": "code",
      "execution_count": null,
      "metadata": {
        "id": "iT_R5zS_agQ8"
      },
      "outputs": [],
      "source": [
        "def psnr(original, compressed):\n",
        "    max_pixel = 255.0\n",
        "    mean_square_error = mse(original, compressed)\n",
        "    return 20 * np.log10(max_pixel / np.sqrt(mean_square_error))"
      ]
    },
    {
      "cell_type": "markdown",
      "metadata": {
        "id": "s7CWiwTKamWX"
      },
      "source": [
        "#### Results"
      ]
    },
    {
      "cell_type": "code",
      "execution_count": null,
      "metadata": {
        "id": "7Tad7Ileah64"
      },
      "outputs": [],
      "source": [
        "def calculate_metrics(original, compressed):\n",
        "    mse_index = mse(original, compressed)\n",
        "    psnr_index = psnr(original, compressed)\n",
        "    ssim_index = ssim(original, compressed)\n",
        "    metrics = {\n",
        "        'MSE': mse_index,\n",
        "        'PSNR': psnr_index,\n",
        "        'SSIM': ssim_index,\n",
        "    }\n",
        "    return metrics"
      ]
    },
    {
      "cell_type": "markdown",
      "metadata": {
        "id": "ZrPhVpKa-GVx"
      },
      "source": [
        "## SVD vs FFT vs Wavelet"
      ]
    },
    {
      "cell_type": "code",
      "source": [
        "cr = ...\n",
        "fft_threshold = ...\n",
        "k = find_rank(img, cr)\n",
        "svd_threshold = ..."
      ],
      "metadata": {
        "id": "nmNZ1NCwwI_n"
      },
      "execution_count": null,
      "outputs": []
    },
    {
      "cell_type": "code",
      "source": [
        "compressed_image_fft, size_fft = FFT_compression(img, fft_threshold)\n",
        "compressed_image_svd, size_svd = SVD_compression(img, k)\n",
        "compressed_image_wavelet, size_wavelet = wavelet_compression(img, svd_threshold)"
      ],
      "metadata": {
        "id": "JoM73HPZDI1C"
      },
      "execution_count": null,
      "outputs": []
    },
    {
      "cell_type": "code",
      "source": [
        "plt.figure(figsize=(15, 10))\n",
        "plt.subplot(1, 3, 1)\n",
        "plt.imshow(compressed_image_svd)\n",
        "plt.title(f'SVD')\n",
        "plt.axis('off')\n",
        "\n",
        "plt.subplot(1, 3, 2)\n",
        "plt.imshow(compressed_image_fft)\n",
        "plt.title(\"FFT\")\n",
        "plt.axis('off')\n",
        "\n",
        "plt.subplot(1, 3, 3)\n",
        "plt.imshow(compressed_image_wavelet)\n",
        "plt.title('Wavelet transform')\n",
        "plt.axis('off')\n"
      ],
      "metadata": {
        "id": "7tez9DZrXj1T"
      },
      "execution_count": null,
      "outputs": []
    },
    {
      "cell_type": "code",
      "execution_count": null,
      "metadata": {
        "id": "8LBnShC6-EyR"
      },
      "outputs": [],
      "source": [
        "print(f'Compression ratio ≈ {cr}%')\n",
        "print('--------------------------')\n",
        "print('SVD')\n",
        "metrics_svd = calculate_metrics(img/255, compressed_image_svd)\n",
        "print(metrics_svd)\n",
        "\n",
        "print('--------------------------')\n",
        "print('FFT')\n",
        "metrics_fft = calculate_metrics(img/255, compressed_image_fft)\n",
        "print(metrics_fft)\n",
        "\n",
        "print('--------------------------')\n",
        "print('Wavelet')\n",
        "metrics_wavelet = calculate_metrics(img/255, compressed_image_wavelet/255)\n",
        "print(metrics_wavelet)"
      ]
    }
  ],
  "metadata": {
    "colab": {
      "collapsed_sections": [
        "LMPx1E_b3DIL",
        "JwydwCt53Tkm",
        "g9QkeiTZOiRZ",
        "k7Lz63OOZlMw",
        "il_jKBPVPAJp",
        "s7CWiwTKamWX",
        "ZrPhVpKa-GVx"
      ],
      "provenance": []
    },
    "kernelspec": {
      "display_name": "Python 3",
      "name": "python3"
    },
    "language_info": {
      "name": "python"
    }
  },
  "nbformat": 4,
  "nbformat_minor": 0
}